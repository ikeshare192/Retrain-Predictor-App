{
 "cells": [
  {
   "cell_type": "code",
   "execution_count": null,
   "metadata": {},
   "outputs": [],
   "source": [
    "import random\n",
    "import numpy as np\n",
    "import pandas as pd\n",
    "from matplotlib import pyplot as plt\n",
    "import seaborn as sns\n",
    "from scipy import stats\n",
    "from scipy.stats import norm, skewnorm\n",
    "import time"
   ]
  },
  {
   "cell_type": "markdown",
   "metadata": {},
   "source": [
    "#### Below begins the building of the dataset. It starts with creating a column called milcol.  Its values are auto-generated with numpy's random integer generated and will be a 1 or a 0."
   ]
  },
  {
   "cell_type": "code",
   "execution_count": null,
   "metadata": {},
   "outputs": [],
   "source": [
    "#creating the military data column.\n",
    "milcol = list(np.random.randint(0,2,(12000)))"
   ]
  },
  {
   "cell_type": "markdown",
   "metadata": {},
   "source": [
    "#### The civilian data column is built by iterating about the milcol list.  Any value of 1 will be converted to a 0 and vice versa."
   ]
  },
  {
   "cell_type": "code",
   "execution_count": null,
   "metadata": {},
   "outputs": [],
   "source": [
    "#creating the civilian data column.\n",
    "civcol=[]\n",
    "for i in milcol:\n",
    "    if i.item() == 1:\n",
    "        civcol.append(i.item()-1)\n",
    "    if i.item() == 0:\n",
    "        civcol.append(i.item()+1)"
   ]
  },
  {
   "cell_type": "markdown",
   "metadata": {},
   "source": [
    "#### The rest of the data set is populated with random integers and then everything is combined into one dataframe."
   ]
  },
  {
   "cell_type": "code",
   "execution_count": null,
   "metadata": {},
   "outputs": [],
   "source": [
    "#creating a variable with all column names\n",
    "column_names=['Flew Fighter','Flew Cargo','Flew Corporate',\n",
    "              'Flew RJ', 'Arts Degree','Stem Degree',\n",
    "              'A-Hours','B-Hours','C-Hours',\n",
    "              'Prev Capt','Prev Rot-Wing']\n",
    "\n",
    "#creating a synthetic dataset of random numbers either 0 or 1\n",
    "syn_data =pd.DataFrame(np.random.randint(0,2,(12000,11)),\n",
    "                       columns = column_names)\n",
    "\n",
    "#creating a synthetic dataset of military and civilian columns\n",
    "df1=pd.DataFrame(\n",
    "    {\"Is Military\":milcol,\n",
    "     \"Is Civilian\":civcol}\n",
    "               )"
   ]
  },
  {
   "cell_type": "code",
   "execution_count": null,
   "metadata": {},
   "outputs": [],
   "source": [
    "#combining the two datasets above to create one\n",
    "df2 = pd.concat([df1, syn_data], axis=1)\n",
    "df2"
   ]
  },
  {
   "cell_type": "markdown",
   "metadata": {},
   "source": [
    "#### Take a look at the df_final dataframe above and make sure it is fully popluated.  There are currently some value combinations along the rows that are highly unlikely and need to be addressed.  Below is the code that creates conditions where each row will make sense and replicate the traits of a real pilot.  i.e. No civilians that flew fighter jets, etc., etc."
   ]
  },
  {
   "cell_type": "code",
   "execution_count": null,
   "metadata": {},
   "outputs": [],
   "source": [
    "#if Is Civilian, then Flew Fighters = 0\n",
    "ftr_is_zero = (df2[\"Is Civilian\"]==1)\n",
    "df2.loc[(ftr_is_zero, \"Flew Fighter\")]=0\n",
    "\n",
    "#if Flew Fighter = 1, then Flew Cargo = 0\n",
    "trans_is_zero = (df2[\"Flew Fighter\"]==1)\n",
    "df2.loc[(trans_is_zero,\"Flew Cargo\")]=0\n",
    "\n",
    "#if Flew Fighter = 1, then Flew Corporate = 0\n",
    "no_corp_if_ftr = (df2[\"Flew Fighter\"]==1)\n",
    "df2.loc[no_corp_if_ftr, \"Flew Corporate\"]=0\n",
    "\n",
    "#if Flew Cargo = 1, then Flew RJ = 0\n",
    "no_car_rj = (df2[\"Flew Cargo\"]==1)\n",
    "df2.loc[no_car_rj, \"Flew RJ\"]=0\n",
    "\n",
    "#if Arts Degree = 1, then Stem Degree = 0\n",
    "other_deg = (df2[\"Arts Degree\"]==1)\n",
    "df2.loc[(other_deg, \"Stem Degree\")]=0\n",
    "\n",
    "#if Arts Degree = 0, then Stem Degree = 1\n",
    "other_deg2 = (df2[\"Arts Degree\"]==0)\n",
    "df2.loc[(other_deg2, \"Stem Degree\")]=1\n",
    "\n",
    "#if Is Military = 1, then Prev Capt = 0\n",
    "never_cpt = (df2[\"Is Military\"]==1)\n",
    "df2.loc[never_cpt, \"Prev Capt\"]=0\n",
    "\n",
    "#if Flew Corporate = 1, then Flew RJ = 0\n",
    "not_rj = (df2[\"Flew Corporate\"]==1)\n",
    "df2.loc[not_rj, \"Flew RJ\"]=0\n",
    "\n",
    "#if A-Hours = 1, then B-Hours = 0\n",
    "hours1 = (df2[\"A-Hours\"]==1)\n",
    "df2.loc[(hours1, \"B-Hours\")]=0\n",
    "\n",
    "#if B-Hours = 1, then C-Hours = 0\n",
    "hours2 = (df2[\"B-Hours\"]==1)\n",
    "df2.loc[(hours2, \"C-Hours\")]=0\n",
    "\n",
    "#if A-Hours = 1, then C-Hours = 0\n",
    "hours3 = (df2[\"A-Hours\"]==1)\n",
    "df2.loc[(hours3, \"C-Hours\")]=0\n",
    "\n",
    "#if Is Civilian = 1, then Prev Rot-Wing = 0\n",
    "no_helo1 = (df2[\"Is Civilian\"]==1)\n",
    "df2.loc[(no_helo1, \"Prev Rot-Wing\")]=0\n",
    "\n",
    "#if Flew Fighter = 1, then Prev Rot-Wing = 0\n",
    "no_helo2 = (df2[\"Flew Fighter\"]==1)\n",
    "df2.loc[(no_helo2, \"Prev Rot-Wing\")]=0          "
   ]
  },
  {
   "cell_type": "code",
   "execution_count": null,
   "metadata": {},
   "outputs": [],
   "source": [
    "#A more accuract desctiption of a poplution of pilots\n",
    "df2"
   ]
  },
  {
   "cell_type": "code",
   "execution_count": null,
   "metadata": {},
   "outputs": [],
   "source": [
    "#low time helo to fixed wing transition array\n",
    "helo = np.array([[1,0,0,0,1,0,1,0,1,0,0,0,1]])\n",
    "\n",
    "#low time fighter pilot array\n",
    "low_time = np.array([[1,0,1,0,0,0,0,1,1,0,0,0,0]])"
   ]
  },
  {
   "cell_type": "code",
   "execution_count": null,
   "metadata": {},
   "outputs": [],
   "source": [
    "#creating bias data\n",
    "helo_bias = pd.DataFrame(helo, columns = df2.columns)\n",
    "low_time_bias = pd.DataFrame(low_time, columns = df2.columns)\n",
    "\n",
    "#populating a helo bias table\n",
    "helo_bias = pd.concat([helo_bias]*2000, axis=0, ignore_index=True)\n",
    "#populating a low time bias table\n",
    "low_ti_bias = pd.concat([low_time_bias]*3000, axis=0, ignore_index=True)\n",
    "\n",
    "#combining low time bias and helo bias dataframes into one \n",
    "df_bias = pd.concat([helo_bias, low_ti_bias], axis=0)\n",
    "\n",
    "#Creating the final data frame which is a combination of#\n",
    "#the synthetic data and the bias data####################\n",
    "final = pd.concat([df2, df_bias], ignore_index=True)\n"
   ]
  },
  {
   "cell_type": "code",
   "execution_count": null,
   "metadata": {},
   "outputs": [],
   "source": [
    "#quick view of the final dataframe\n",
    "final"
   ]
  },
  {
   "cell_type": "code",
   "execution_count": null,
   "metadata": {},
   "outputs": [],
   "source": [
    "#creating random variables for the retrain targets\n",
    "norm_ret = pd.DataFrame(np.random.randint(0,1,(12000)))\n",
    "\n",
    "#create a biased retrain target away from the normal mean\n",
    "bias_ret = pd.DataFrame(np.random.randint(1,3,(5000)))"
   ]
  },
  {
   "cell_type": "code",
   "execution_count": null,
   "metadata": {},
   "outputs": [],
   "source": [
    "final[\"# of Retrains\"] = pd.concat([norm_ret,bias_ret], ignore_index=True)\n",
    "final"
   ]
  },
  {
   "cell_type": "markdown",
   "metadata": {},
   "source": [
    "#### The section below begins the process of plotting, and processing the data through ML algorithms."
   ]
  },
  {
   "cell_type": "code",
   "execution_count": null,
   "metadata": {},
   "outputs": [],
   "source": [
    "#This cell adds the values in every column and creates a list#\n",
    "#of sums.  Those values will be used in the bar charting.#####\n",
    "\n",
    "x=np.arange(len(final.columns))\n",
    "col_sums = []\n",
    "for column in final.columns:\n",
    "    sums = sum(final[column])\n",
    "    col_sums.append(sums)\n",
    "    \n",
    "#view the sum of each column as a list\n",
    "final.columns,col_sums"
   ]
  },
  {
   "cell_type": "code",
   "execution_count": null,
   "metadata": {},
   "outputs": [],
   "source": [
    "#ax=sns.barplot(x=np.arange(len(df_final.columns)), y=col_sums)\n",
    "#(df_final.columns)\n",
    "\n",
    "\n",
    "ys = np.arange(len(final.columns))\n",
    "x_labels = final.columns\n",
    "my_colors = [\"red\",\"green\",\"black\",\"blue\",\"yellow\", \"magenta\"]\n",
    "\n",
    "fig, ax = plt.subplots(figsize = (12,10))\n",
    "plt.bar(ys,col_sums,color = my_colors)\n",
    "\n",
    "plt.xticks(ys, x_labels,rotation=90)\n",
    "plt.xlabel('Features')\n",
    "plt.ylabel('Model Attribute(sums)')\n",
    "plt.title(\"Model Attributes\", fontsize=16)"
   ]
  },
  {
   "cell_type": "markdown",
   "metadata": {},
   "source": [
    "#### Ultimately our real data set would have move variability in it but for a snthetic data set this is a great start.  Below we need to create a data set that is our target variable.  That variable will be a number of retrains that have historically occured with the given pilot attributes.  The goal is to train an algorithm that will be able to predict a number of retrains given a pilots attributes."
   ]
  },
  {
   "cell_type": "code",
   "execution_count": 67,
   "metadata": {},
   "outputs": [
    {
     "data": {
      "text/plain": [
       "Text(0, 0.5, 'Frequency')"
      ]
     },
     "execution_count": 67,
     "metadata": {},
     "output_type": "execute_result"
    },
    {
     "data": {
      "image/png": "[encoded data removed]",
      "text/plain": [
       "<Figure size 864x576 with 1 Axes>"
      ]
     },
     "metadata": {
      "needs_background": "light"
     },
     "output_type": "display_data"
    }
   ],
   "source": [
    "#plotting a histogram of the retrain column\n",
    "fig, ax = plt.subplots(figsize = (12,8))\n",
    "sns.histplot(\n",
    "    final[\"# of Retrains\"],\n",
    "    bins=3,\n",
    "    color = 'green',\n",
    "    kde = False)\n",
    "\n",
    "legends = ['##']\n",
    "plt.legend(legends)\n",
    "ax.set_title(\"Histogram of retrains\")\n",
    "ax.set_xlabel(\"# of Retrains\")\n",
    "ax.set_ylabel(\"Frequency\")"
   ]
  },
  {
   "cell_type": "code",
   "execution_count": null,
   "metadata": {},
   "outputs": [],
   "source": [
    "#labeling the X(features) and y(targets)\n",
    "y=final[\"# of Retrains\"].astype(int)\n",
    "X=final.drop((\"# of Retrains\"), axis=1)"
   ]
  },
  {
   "cell_type": "code",
   "execution_count": null,
   "metadata": {},
   "outputs": [],
   "source": [
    "y"
   ]
  },
  {
   "cell_type": "code",
   "execution_count": null,
   "metadata": {},
   "outputs": [],
   "source": [
    "X"
   ]
  },
  {
   "cell_type": "code",
   "execution_count": null,
   "metadata": {},
   "outputs": [],
   "source": [
    "#importing the necessary libraries to run the ML algorithms\n",
    "from sklearn.ensemble import GradientBoostingRegressor as gbr\n",
    "from sklearn.linear_model import LogisticRegression as LR\n",
    "from sklearn.model_selection import train_test_split"
   ]
  },
  {
   "cell_type": "code",
   "execution_count": null,
   "metadata": {},
   "outputs": [],
   "source": [
    "#splitting the train and test data\n",
    "X_train, X_test, y_train, y_test = train_test_split(\n",
    "    X,y, random_state=42, test_size = 0.2)"
   ]
  },
  {
   "cell_type": "code",
   "execution_count": null,
   "metadata": {},
   "outputs": [],
   "source": [
    "estimator = gbr()"
   ]
  },
  {
   "cell_type": "code",
   "execution_count": null,
   "metadata": {},
   "outputs": [],
   "source": [
    "help(LR)"
   ]
  },
  {
   "cell_type": "code",
   "execution_count": 31,
   "metadata": {},
   "outputs": [
    {
     "name": "stdout",
     "output_type": "stream",
     "text": [
      "Wall time: 1.05 s\n"
     ]
    },
    {
     "data": {
      "text/plain": [
       "GradientBoostingRegressor(alpha=0.9, ccp_alpha=0.0, criterion='friedman_mse',\n",
       "                          init=None, learning_rate=0.1, loss='ls', max_depth=3,\n",
       "                          max_features=None, max_leaf_nodes=None,\n",
       "                          min_impurity_decrease=0.0, min_impurity_split=None,\n",
       "                          min_samples_leaf=1, min_samples_split=2,\n",
       "                          min_weight_fraction_leaf=0.0, n_estimators=100,\n",
       "                          n_iter_no_change=None, presort='deprecated',\n",
       "                          random_state=None, subsample=1.0, tol=0.0001,\n",
       "                          validation_fraction=0.1, verbose=0, warm_start=False)"
      ]
     },
     "execution_count": 31,
     "metadata": {},
     "output_type": "execute_result"
    }
   ],
   "source": [
    "%%time\n",
    "estimator.fit(X_train, y_train)"
   ]
  },
  {
   "cell_type": "code",
   "execution_count": 34,
   "metadata": {},
   "outputs": [
    {
     "data": {
      "text/plain": [
       "0.7080897223076337"
      ]
     },
     "execution_count": 34,
     "metadata": {},
     "output_type": "execute_result"
    }
   ],
   "source": [
    "estimator.score(X_test, y_test)"
   ]
  },
  {
   "cell_type": "code",
   "execution_count": 35,
   "metadata": {},
   "outputs": [
    {
     "data": {
      "text/plain": [
       "array([0.17302896, 0.09212524, 0.0548637 , 0.11730102, 0.02441601,\n",
       "       0.15162256, 0.03999506, 0.05073631, 0.27170439, 0.        ,\n",
       "       0.        , 0.        , 0.02420675])"
      ]
     },
     "execution_count": 35,
     "metadata": {},
     "output_type": "execute_result"
    }
   ],
   "source": [
    "estimator.feature_importances_"
   ]
  },
  {
   "cell_type": "code",
   "execution_count": 36,
   "metadata": {},
   "outputs": [
    {
     "data": {
      "text/plain": [
       "[0.1730289598080937,\n",
       " 0.09212523892161065,\n",
       " 0.05486369965189534,\n",
       " 0.11730101680415687,\n",
       " 0.0244160092504868,\n",
       " 0.1516225647453546,\n",
       " 0.039995063333979834,\n",
       " 0.05073630877315332,\n",
       " 0.2717043867192678,\n",
       " 0.0,\n",
       " 0.0,\n",
       " 0.0,\n",
       " 0.024206751992000956]"
      ]
     },
     "execution_count": 36,
     "metadata": {},
     "output_type": "execute_result"
    },
    {
     "data": {
      "image/png": "[encoded data removed]",
      "text/plain": [
       "<Figure size 720x720 with 1 Axes>"
      ]
     },
     "metadata": {
      "needs_background": "light"
     },
     "output_type": "display_data"
    }
   ],
   "source": [
    "y_pos = np.arange(len(list(X.columns)))\n",
    "bar_labels = X.columns\n",
    "coef = estimator.feature_importances_\n",
    "coefs = [i.tolist() for i in coef]\n",
    "\n",
    "\n",
    "fig, ax = plt.subplots(figsize = (10,10))\n",
    "my_colors2 = [\"green\",\"blue\",\"orange\",\"red\",\"yellow\",\"black\",\"magenta\"]\n",
    "plt.bar(y_pos,coef, color = my_colors2 )\n",
    "        #[val for sublist in coefs for val in sublist])\n",
    "plt.xticks(y_pos, bar_labels, rotation=90)\n",
    "plt.xlabel('Features')\n",
    "plt.ylabel('Model Coefficients')\n",
    "coefs"
   ]
  },
  {
   "cell_type": "code",
   "execution_count": 37,
   "metadata": {},
   "outputs": [],
   "source": [
    "pilot_newbie = np.array([1,0,0,1,0,0,1,0,0,0,1,0,0]).reshape(1,-1)\n",
    "newbie_prediction = estimator.predict(pilot_newbie)"
   ]
  },
  {
   "cell_type": "code",
   "execution_count": 38,
   "metadata": {},
   "outputs": [
    {
     "name": "stdout",
     "output_type": "stream",
     "text": [
      "Your trainee is predicted to have 0 retrains\n"
     ]
    }
   ],
   "source": [
    "print(f\"Your trainee is predicted to have {abs(np.round(newbie_prediction.item())):.0f} retrains\")"
   ]
  },
  {
   "cell_type": "code",
   "execution_count": 39,
   "metadata": {},
   "outputs": [],
   "source": [
    "shareef_fng = np.array([1,0,1,0,0,0,0,0,1,0,0,0,0]).reshape(1,-1)\n",
    "shareef_prediction  = estimator.predict(shareef_fng)"
   ]
  },
  {
   "cell_type": "code",
   "execution_count": 40,
   "metadata": {},
   "outputs": [
    {
     "name": "stdout",
     "output_type": "stream",
     "text": [
      "Isaac Shareef will likely have 1 retrain\n"
     ]
    }
   ],
   "source": [
    "print(f\"Isaac Shareef will likely have {np.round(shareef_prediction.item()):.0f} retrain\")"
   ]
  },
  {
   "cell_type": "code",
   "execution_count": 41,
   "metadata": {},
   "outputs": [],
   "source": [
    "class_a = X.sample(20,replace = True, random_state=42)"
   ]
  },
  {
   "cell_type": "code",
   "execution_count": 42,
   "metadata": {},
   "outputs": [
    {
     "data": {
      "text/html": [
       "<div>\n",
       "<style scoped>\n",
       "    .dataframe tbody tr th:only-of-type {\n",
       "        vertical-align: middle;\n",
       "    }\n",
       "\n",
       "    .dataframe tbody tr th {\n",
       "        vertical-align: top;\n",
       "    }\n",
       "\n",
       "    .dataframe thead th {\n",
       "        text-align: right;\n",
       "    }\n",
       "</style>\n",
       "<table border=\"1\" class=\"dataframe\">\n",
       "  <thead>\n",
       "    <tr style=\"text-align: right;\">\n",
       "      <th></th>\n",
       "      <th>Is Military</th>\n",
       "      <th>Is Civilian</th>\n",
       "      <th>Flew Fighter</th>\n",
       "      <th>Flew Cargo</th>\n",
       "      <th>Flew Corporate</th>\n",
       "      <th>Flew RJ</th>\n",
       "      <th>Arts Degree</th>\n",
       "      <th>Stem Degree</th>\n",
       "      <th>A-Hours</th>\n",
       "      <th>B-Hours</th>\n",
       "      <th>C-Hours</th>\n",
       "      <th>Prev Capt</th>\n",
       "      <th>Prev Rot-Wing</th>\n",
       "    </tr>\n",
       "  </thead>\n",
       "  <tbody>\n",
       "    <tr>\n",
       "      <th>15795</th>\n",
       "      <td>1</td>\n",
       "      <td>0</td>\n",
       "      <td>1</td>\n",
       "      <td>0</td>\n",
       "      <td>0</td>\n",
       "      <td>0</td>\n",
       "      <td>0</td>\n",
       "      <td>1</td>\n",
       "      <td>1</td>\n",
       "      <td>0</td>\n",
       "      <td>0</td>\n",
       "      <td>0</td>\n",
       "      <td>0</td>\n",
       "    </tr>\n",
       "    <tr>\n",
       "      <th>860</th>\n",
       "      <td>1</td>\n",
       "      <td>0</td>\n",
       "      <td>1</td>\n",
       "      <td>0</td>\n",
       "      <td>0</td>\n",
       "      <td>1</td>\n",
       "      <td>1</td>\n",
       "      <td>0</td>\n",
       "      <td>1</td>\n",
       "      <td>0</td>\n",
       "      <td>0</td>\n",
       "      <td>0</td>\n",
       "      <td>0</td>\n",
       "    </tr>\n",
       "    <tr>\n",
       "      <th>5390</th>\n",
       "      <td>1</td>\n",
       "      <td>0</td>\n",
       "      <td>0</td>\n",
       "      <td>1</td>\n",
       "      <td>0</td>\n",
       "      <td>0</td>\n",
       "      <td>0</td>\n",
       "      <td>1</td>\n",
       "      <td>0</td>\n",
       "      <td>0</td>\n",
       "      <td>0</td>\n",
       "      <td>0</td>\n",
       "      <td>1</td>\n",
       "    </tr>\n",
       "    <tr>\n",
       "      <th>11964</th>\n",
       "      <td>0</td>\n",
       "      <td>1</td>\n",
       "      <td>0</td>\n",
       "      <td>1</td>\n",
       "      <td>1</td>\n",
       "      <td>0</td>\n",
       "      <td>0</td>\n",
       "      <td>1</td>\n",
       "      <td>1</td>\n",
       "      <td>0</td>\n",
       "      <td>0</td>\n",
       "      <td>1</td>\n",
       "      <td>0</td>\n",
       "    </tr>\n",
       "    <tr>\n",
       "      <th>11284</th>\n",
       "      <td>1</td>\n",
       "      <td>0</td>\n",
       "      <td>1</td>\n",
       "      <td>0</td>\n",
       "      <td>0</td>\n",
       "      <td>0</td>\n",
       "      <td>0</td>\n",
       "      <td>1</td>\n",
       "      <td>1</td>\n",
       "      <td>0</td>\n",
       "      <td>0</td>\n",
       "      <td>0</td>\n",
       "      <td>0</td>\n",
       "    </tr>\n",
       "    <tr>\n",
       "      <th>6265</th>\n",
       "      <td>0</td>\n",
       "      <td>1</td>\n",
       "      <td>0</td>\n",
       "      <td>0</td>\n",
       "      <td>0</td>\n",
       "      <td>0</td>\n",
       "      <td>0</td>\n",
       "      <td>1</td>\n",
       "      <td>0</td>\n",
       "      <td>0</td>\n",
       "      <td>1</td>\n",
       "      <td>0</td>\n",
       "      <td>0</td>\n",
       "    </tr>\n",
       "    <tr>\n",
       "      <th>16850</th>\n",
       "      <td>1</td>\n",
       "      <td>0</td>\n",
       "      <td>1</td>\n",
       "      <td>0</td>\n",
       "      <td>0</td>\n",
       "      <td>0</td>\n",
       "      <td>0</td>\n",
       "      <td>1</td>\n",
       "      <td>1</td>\n",
       "      <td>0</td>\n",
       "      <td>0</td>\n",
       "      <td>0</td>\n",
       "      <td>0</td>\n",
       "    </tr>\n",
       "    <tr>\n",
       "      <th>4426</th>\n",
       "      <td>1</td>\n",
       "      <td>0</td>\n",
       "      <td>0</td>\n",
       "      <td>1</td>\n",
       "      <td>1</td>\n",
       "      <td>0</td>\n",
       "      <td>1</td>\n",
       "      <td>0</td>\n",
       "      <td>1</td>\n",
       "      <td>0</td>\n",
       "      <td>0</td>\n",
       "      <td>0</td>\n",
       "      <td>0</td>\n",
       "    </tr>\n",
       "    <tr>\n",
       "      <th>14423</th>\n",
       "      <td>1</td>\n",
       "      <td>0</td>\n",
       "      <td>1</td>\n",
       "      <td>0</td>\n",
       "      <td>0</td>\n",
       "      <td>0</td>\n",
       "      <td>0</td>\n",
       "      <td>1</td>\n",
       "      <td>1</td>\n",
       "      <td>0</td>\n",
       "      <td>0</td>\n",
       "      <td>0</td>\n",
       "      <td>0</td>\n",
       "    </tr>\n",
       "    <tr>\n",
       "      <th>11363</th>\n",
       "      <td>1</td>\n",
       "      <td>0</td>\n",
       "      <td>1</td>\n",
       "      <td>0</td>\n",
       "      <td>0</td>\n",
       "      <td>1</td>\n",
       "      <td>1</td>\n",
       "      <td>0</td>\n",
       "      <td>0</td>\n",
       "      <td>1</td>\n",
       "      <td>0</td>\n",
       "      <td>0</td>\n",
       "      <td>0</td>\n",
       "    </tr>\n",
       "    <tr>\n",
       "      <th>16023</th>\n",
       "      <td>1</td>\n",
       "      <td>0</td>\n",
       "      <td>1</td>\n",
       "      <td>0</td>\n",
       "      <td>0</td>\n",
       "      <td>0</td>\n",
       "      <td>0</td>\n",
       "      <td>1</td>\n",
       "      <td>1</td>\n",
       "      <td>0</td>\n",
       "      <td>0</td>\n",
       "      <td>0</td>\n",
       "      <td>0</td>\n",
       "    </tr>\n",
       "    <tr>\n",
       "      <th>8322</th>\n",
       "      <td>1</td>\n",
       "      <td>0</td>\n",
       "      <td>0</td>\n",
       "      <td>1</td>\n",
       "      <td>0</td>\n",
       "      <td>0</td>\n",
       "      <td>1</td>\n",
       "      <td>0</td>\n",
       "      <td>1</td>\n",
       "      <td>0</td>\n",
       "      <td>0</td>\n",
       "      <td>0</td>\n",
       "      <td>0</td>\n",
       "    </tr>\n",
       "    <tr>\n",
       "      <th>1685</th>\n",
       "      <td>0</td>\n",
       "      <td>1</td>\n",
       "      <td>0</td>\n",
       "      <td>0</td>\n",
       "      <td>0</td>\n",
       "      <td>1</td>\n",
       "      <td>1</td>\n",
       "      <td>0</td>\n",
       "      <td>0</td>\n",
       "      <td>1</td>\n",
       "      <td>0</td>\n",
       "      <td>1</td>\n",
       "      <td>0</td>\n",
       "    </tr>\n",
       "    <tr>\n",
       "      <th>769</th>\n",
       "      <td>0</td>\n",
       "      <td>1</td>\n",
       "      <td>0</td>\n",
       "      <td>1</td>\n",
       "      <td>1</td>\n",
       "      <td>0</td>\n",
       "      <td>0</td>\n",
       "      <td>1</td>\n",
       "      <td>1</td>\n",
       "      <td>0</td>\n",
       "      <td>0</td>\n",
       "      <td>1</td>\n",
       "      <td>0</td>\n",
       "    </tr>\n",
       "    <tr>\n",
       "      <th>2433</th>\n",
       "      <td>1</td>\n",
       "      <td>0</td>\n",
       "      <td>0</td>\n",
       "      <td>1</td>\n",
       "      <td>0</td>\n",
       "      <td>0</td>\n",
       "      <td>1</td>\n",
       "      <td>0</td>\n",
       "      <td>1</td>\n",
       "      <td>0</td>\n",
       "      <td>0</td>\n",
       "      <td>0</td>\n",
       "      <td>1</td>\n",
       "    </tr>\n",
       "    <tr>\n",
       "      <th>5311</th>\n",
       "      <td>1</td>\n",
       "      <td>0</td>\n",
       "      <td>1</td>\n",
       "      <td>0</td>\n",
       "      <td>0</td>\n",
       "      <td>1</td>\n",
       "      <td>1</td>\n",
       "      <td>0</td>\n",
       "      <td>1</td>\n",
       "      <td>0</td>\n",
       "      <td>0</td>\n",
       "      <td>0</td>\n",
       "      <td>0</td>\n",
       "    </tr>\n",
       "    <tr>\n",
       "      <th>5051</th>\n",
       "      <td>1</td>\n",
       "      <td>0</td>\n",
       "      <td>1</td>\n",
       "      <td>0</td>\n",
       "      <td>0</td>\n",
       "      <td>1</td>\n",
       "      <td>0</td>\n",
       "      <td>1</td>\n",
       "      <td>1</td>\n",
       "      <td>0</td>\n",
       "      <td>0</td>\n",
       "      <td>0</td>\n",
       "      <td>0</td>\n",
       "    </tr>\n",
       "    <tr>\n",
       "      <th>6420</th>\n",
       "      <td>0</td>\n",
       "      <td>1</td>\n",
       "      <td>0</td>\n",
       "      <td>0</td>\n",
       "      <td>1</td>\n",
       "      <td>0</td>\n",
       "      <td>0</td>\n",
       "      <td>1</td>\n",
       "      <td>1</td>\n",
       "      <td>0</td>\n",
       "      <td>0</td>\n",
       "      <td>0</td>\n",
       "      <td>0</td>\n",
       "    </tr>\n",
       "    <tr>\n",
       "      <th>6396</th>\n",
       "      <td>0</td>\n",
       "      <td>1</td>\n",
       "      <td>0</td>\n",
       "      <td>1</td>\n",
       "      <td>1</td>\n",
       "      <td>0</td>\n",
       "      <td>0</td>\n",
       "      <td>1</td>\n",
       "      <td>1</td>\n",
       "      <td>0</td>\n",
       "      <td>0</td>\n",
       "      <td>1</td>\n",
       "      <td>0</td>\n",
       "    </tr>\n",
       "    <tr>\n",
       "      <th>8666</th>\n",
       "      <td>1</td>\n",
       "      <td>0</td>\n",
       "      <td>0</td>\n",
       "      <td>0</td>\n",
       "      <td>0</td>\n",
       "      <td>1</td>\n",
       "      <td>1</td>\n",
       "      <td>0</td>\n",
       "      <td>0</td>\n",
       "      <td>1</td>\n",
       "      <td>0</td>\n",
       "      <td>0</td>\n",
       "      <td>1</td>\n",
       "    </tr>\n",
       "  </tbody>\n",
       "</table>\n",
       "</div>"
      ],
      "text/plain": [
       "       Is Military  Is Civilian  Flew Fighter  Flew Cargo  Flew Corporate  \\\n",
       "15795            1            0             1           0               0   \n",
       "860              1            0             1           0               0   \n",
       "5390             1            0             0           1               0   \n",
       "11964            0            1             0           1               1   \n",
       "11284            1            0             1           0               0   \n",
       "6265             0            1             0           0               0   \n",
       "16850            1            0             1           0               0   \n",
       "4426             1            0             0           1               1   \n",
       "14423            1            0             1           0               0   \n",
       "11363            1            0             1           0               0   \n",
       "16023            1            0             1           0               0   \n",
       "8322             1            0             0           1               0   \n",
       "1685             0            1             0           0               0   \n",
       "769              0            1             0           1               1   \n",
       "2433             1            0             0           1               0   \n",
       "5311             1            0             1           0               0   \n",
       "5051             1            0             1           0               0   \n",
       "6420             0            1             0           0               1   \n",
       "6396             0            1             0           1               1   \n",
       "8666             1            0             0           0               0   \n",
       "\n",
       "       Flew RJ  Arts Degree  Stem Degree  A-Hours  B-Hours  C-Hours  \\\n",
       "15795        0            0            1        1        0        0   \n",
       "860          1            1            0        1        0        0   \n",
       "5390         0            0            1        0        0        0   \n",
       "11964        0            0            1        1        0        0   \n",
       "11284        0            0            1        1        0        0   \n",
       "6265         0            0            1        0        0        1   \n",
       "16850        0            0            1        1        0        0   \n",
       "4426         0            1            0        1        0        0   \n",
       "14423        0            0            1        1        0        0   \n",
       "11363        1            1            0        0        1        0   \n",
       "16023        0            0            1        1        0        0   \n",
       "8322         0            1            0        1        0        0   \n",
       "1685         1            1            0        0        1        0   \n",
       "769          0            0            1        1        0        0   \n",
       "2433         0            1            0        1        0        0   \n",
       "5311         1            1            0        1        0        0   \n",
       "5051         1            0            1        1        0        0   \n",
       "6420         0            0            1        1        0        0   \n",
       "6396         0            0            1        1        0        0   \n",
       "8666         1            1            0        0        1        0   \n",
       "\n",
       "       Prev Capt  Prev Rot-Wing  \n",
       "15795          0              0  \n",
       "860            0              0  \n",
       "5390           0              1  \n",
       "11964          1              0  \n",
       "11284          0              0  \n",
       "6265           0              0  \n",
       "16850          0              0  \n",
       "4426           0              0  \n",
       "14423          0              0  \n",
       "11363          0              0  \n",
       "16023          0              0  \n",
       "8322           0              0  \n",
       "1685           1              0  \n",
       "769            1              0  \n",
       "2433           0              1  \n",
       "5311           0              0  \n",
       "5051           0              0  \n",
       "6420           0              0  \n",
       "6396           1              0  \n",
       "8666           0              1  "
      ]
     },
     "execution_count": 42,
     "metadata": {},
     "output_type": "execute_result"
    }
   ],
   "source": [
    "class_a"
   ]
  },
  {
   "cell_type": "code",
   "execution_count": 43,
   "metadata": {},
   "outputs": [],
   "source": [
    "arr_cls_a = np.array(class_a)"
   ]
  },
  {
   "cell_type": "code",
   "execution_count": 44,
   "metadata": {},
   "outputs": [
    {
     "data": {
      "text/plain": [
       "array([[1, 0, 1, 0, 0, 0, 0, 1, 1, 0, 0, 0, 0],\n",
       "       [1, 0, 1, 0, 0, 1, 1, 0, 1, 0, 0, 0, 0],\n",
       "       [1, 0, 0, 1, 0, 0, 0, 1, 0, 0, 0, 0, 1],\n",
       "       [0, 1, 0, 1, 1, 0, 0, 1, 1, 0, 0, 1, 0],\n",
       "       [1, 0, 1, 0, 0, 0, 0, 1, 1, 0, 0, 0, 0],\n",
       "       [0, 1, 0, 0, 0, 0, 0, 1, 0, 0, 1, 0, 0],\n",
       "       [1, 0, 1, 0, 0, 0, 0, 1, 1, 0, 0, 0, 0],\n",
       "       [1, 0, 0, 1, 1, 0, 1, 0, 1, 0, 0, 0, 0],\n",
       "       [1, 0, 1, 0, 0, 0, 0, 1, 1, 0, 0, 0, 0],\n",
       "       [1, 0, 1, 0, 0, 1, 1, 0, 0, 1, 0, 0, 0],\n",
       "       [1, 0, 1, 0, 0, 0, 0, 1, 1, 0, 0, 0, 0],\n",
       "       [1, 0, 0, 1, 0, 0, 1, 0, 1, 0, 0, 0, 0],\n",
       "       [0, 1, 0, 0, 0, 1, 1, 0, 0, 1, 0, 1, 0],\n",
       "       [0, 1, 0, 1, 1, 0, 0, 1, 1, 0, 0, 1, 0],\n",
       "       [1, 0, 0, 1, 0, 0, 1, 0, 1, 0, 0, 0, 1],\n",
       "       [1, 0, 1, 0, 0, 1, 1, 0, 1, 0, 0, 0, 0],\n",
       "       [1, 0, 1, 0, 0, 1, 0, 1, 1, 0, 0, 0, 0],\n",
       "       [0, 1, 0, 0, 1, 0, 0, 1, 1, 0, 0, 0, 0],\n",
       "       [0, 1, 0, 1, 1, 0, 0, 1, 1, 0, 0, 1, 0],\n",
       "       [1, 0, 0, 0, 0, 1, 1, 0, 0, 1, 0, 0, 1]], dtype=int64)"
      ]
     },
     "execution_count": 44,
     "metadata": {},
     "output_type": "execute_result"
    }
   ],
   "source": [
    "#creating an array of arrays\n",
    "arr_cls_a"
   ]
  },
  {
   "cell_type": "code",
   "execution_count": 45,
   "metadata": {},
   "outputs": [],
   "source": [
    "rets = np.abs(np.round(estimator.predict(arr_cls_a)))"
   ]
  },
  {
   "cell_type": "code",
   "execution_count": 46,
   "metadata": {},
   "outputs": [
    {
     "name": "stdout",
     "output_type": "stream",
     "text": [
      "This class is predicted to have a sum of 5 retrains\n"
     ]
    }
   ],
   "source": [
    "print(f\"This class is predicted to have a sum of {sum(rets):.0f} retrains\")"
   ]
  },
  {
   "cell_type": "code",
   "execution_count": 59,
   "metadata": {},
   "outputs": [],
   "source": [
    "prob_est = LR(max_iter = 1000, random_state = 42)"
   ]
  },
  {
   "cell_type": "code",
   "execution_count": 60,
   "metadata": {},
   "outputs": [
    {
     "data": {
      "text/plain": [
       "LogisticRegression(C=1.0, class_weight=None, dual=False, fit_intercept=True,\n",
       "                   intercept_scaling=1, l1_ratio=None, max_iter=1000,\n",
       "                   multi_class='auto', n_jobs=None, penalty='l2',\n",
       "                   random_state=42, solver='lbfgs', tol=0.0001, verbose=0,\n",
       "                   warm_start=False)"
      ]
     },
     "execution_count": 60,
     "metadata": {},
     "output_type": "execute_result"
    }
   ],
   "source": [
    "prob_est.fit(X_train, y_train)"
   ]
  },
  {
   "cell_type": "code",
   "execution_count": 61,
   "metadata": {},
   "outputs": [
    {
     "data": {
      "text/plain": [
       "0.8285294117647058"
      ]
     },
     "execution_count": 61,
     "metadata": {},
     "output_type": "execute_result"
    }
   ],
   "source": [
    "prob_est.score(X_test, y_test)"
   ]
  },
  {
   "cell_type": "code",
   "execution_count": 62,
   "metadata": {},
   "outputs": [
    {
     "data": {
      "text/plain": [
       "array([0])"
      ]
     },
     "execution_count": 62,
     "metadata": {},
     "output_type": "execute_result"
    }
   ],
   "source": [
    "prob_est.predict(pilot_newbie)"
   ]
  },
  {
   "cell_type": "code",
   "execution_count": 63,
   "metadata": {},
   "outputs": [
    {
     "data": {
      "text/plain": [
       "array([0])"
      ]
     },
     "execution_count": 63,
     "metadata": {},
     "output_type": "execute_result"
    }
   ],
   "source": [
    "prob_est.predict(shareef_fng)"
   ]
  },
  {
   "cell_type": "code",
   "execution_count": 64,
   "metadata": {},
   "outputs": [
    {
     "data": {
      "text/plain": [
       "array([[0.41174761, 0.29902015, 0.28923224]])"
      ]
     },
     "execution_count": 64,
     "metadata": {},
     "output_type": "execute_result"
    }
   ],
   "source": [
    "prob_est.predict_proba(shareef_fng)"
   ]
  },
  {
   "cell_type": "code",
   "execution_count": 65,
   "metadata": {},
   "outputs": [
    {
     "data": {
      "text/plain": [
       "array([1])"
      ]
     },
     "execution_count": 65,
     "metadata": {},
     "output_type": "execute_result"
    }
   ],
   "source": [
    "helo_boy = np.array([1,0,0,0,1,0,1,0,1,0,0,0,1]).reshape(1,-1)\n",
    "prob_est.predict(helo_boy)"
   ]
  },
  {
   "cell_type": "code",
   "execution_count": 66,
   "metadata": {},
   "outputs": [
    {
     "data": {
      "text/plain": [
       "array([[0.09109115, 0.47204683, 0.43686202]])"
      ]
     },
     "execution_count": 66,
     "metadata": {},
     "output_type": "execute_result"
    }
   ],
   "source": [
    "prob_est.predict_proba(helo_boy)"
   ]
  },
  {
   "cell_type": "code",
   "execution_count": 69,
   "metadata": {},
   "outputs": [
    {
     "data": {
      "text/plain": [
       "array([[1.00000000e+00, 1.07220902e-12, 1.17055025e-12]])"
      ]
     },
     "execution_count": 69,
     "metadata": {},
     "output_type": "execute_result"
    }
   ],
   "source": [
    "prob_est.predict_proba(pilot_newbie)"
   ]
  },
  {
   "cell_type": "code",
   "execution_count": 70,
   "metadata": {},
   "outputs": [
    {
     "data": {
      "text/plain": [
       "array([[1.47248153e-01, 4.31416960e-01, 4.21334887e-01],\n",
       "       [9.99285069e-01, 3.62519907e-04, 3.52410630e-04],\n",
       "       [9.99999846e-01, 7.45827062e-08, 7.93556268e-08],\n",
       "       [9.99998864e-01, 5.57982713e-07, 5.78167419e-07],\n",
       "       [1.47248153e-01, 4.31416960e-01, 4.21334887e-01],\n",
       "       [9.99999997e-01, 1.29613195e-09, 1.39869601e-09],\n",
       "       [1.47248153e-01, 4.31416960e-01, 4.21334887e-01],\n",
       "       [9.99996101e-01, 1.94487896e-06, 1.95421787e-06],\n",
       "       [1.47248153e-01, 4.31416960e-01, 4.21334887e-01],\n",
       "       [9.99999901e-01, 4.92344672e-08, 4.99459718e-08],\n",
       "       [1.47248153e-01, 4.31416960e-01, 4.21334887e-01],\n",
       "       [9.99999991e-01, 4.60390029e-09, 4.82237609e-09],\n",
       "       [1.00000000e+00, 4.98209580e-14, 5.36295665e-14],\n",
       "       [9.99998864e-01, 5.57982713e-07, 5.78167419e-07],\n",
       "       [9.99989039e-01, 5.46510499e-06, 5.49552176e-06],\n",
       "       [9.99285069e-01, 3.62519907e-04, 3.52410630e-04],\n",
       "       [9.88239326e-01, 5.90220978e-03, 5.85846397e-03],\n",
       "       [9.95335683e-01, 2.34009563e-03, 2.32422154e-03],\n",
       "       [9.99998864e-01, 5.57982713e-07, 5.78167419e-07],\n",
       "       [9.99999993e-01, 3.39369267e-09, 3.47247789e-09]])"
      ]
     },
     "execution_count": 70,
     "metadata": {},
     "output_type": "execute_result"
    }
   ],
   "source": [
    "prob_est.predict_proba(class_a)"
   ]
  },
  {
   "cell_type": "code",
   "execution_count": null,
   "metadata": {},
   "outputs": [],
   "source": []
  }
 ],
 "metadata": {
  "kernelspec": {
   "display_name": "Python 3",
   "language": "python",
   "name": "python3"
  },
  "language_info": {
   "codemirror_mode": {
    "name": "ipython",
    "version": 3
   },
   "file_extension": ".py",
   "mimetype": "text/x-python",
   "name": "python",
   "nbconvert_exporter": "python",
   "pygments_lexer": "ipython3",
   "version": "3.6.12"
  }
 },
 "nbformat": 4,
 "nbformat_minor": 4
}
